{
 "cells": [
  {
   "cell_type": "markdown",
   "id": "a5250394",
   "metadata": {},
   "source": [
    "# Tarea Semanal 1\n",
    "\n",
    "#### Por Joaquín López Tramullas\n",
    "---------------------------------------------------------------"
   ]
  },
  {
   "cell_type": "markdown",
   "id": "7d6c14ab",
   "metadata": {},
   "source": [
    "Trabajamos con la siguiente transferencia, obtenida analíticamente:\n",
    "\n",
    "\\begin{equation}\n",
    "H(s) = \\frac{s-\\frac{R2}{C.R1.R3}}{s+\\frac{1}{C.R3}}.\n",
    "\\end{equation}\n",
    "\n",
    "Normalizando en frecuencia (con respecto a $\\omega_c$) obtenemos:\n",
    "\n",
    "\\begin{equation}\n",
    "H($) = \\frac{$-\\frac{R2}{R1}}{$+1}\n",
    "\\end{equation}\n",
    "\n",
    "Le sumamos la normalización en impendancia (Rn = R2/R1):\n",
    "\n",
    "\\begin{equation}\n",
    "H($) = \\frac{$-Rn}{$+1}\n",
    "\\end{equation}"
   ]
  },
  {
   "cell_type": "code",
   "execution_count": 1,
   "id": "5d170a1c",
   "metadata": {},
   "outputs": [
    {
     "ename": "ModuleNotFoundError",
     "evalue": "No module named 'schemdraw'",
     "output_type": "error",
     "traceback": [
      "\u001b[1;31m---------------------------------------------------------------------------\u001b[0m",
      "\u001b[1;31mModuleNotFoundError\u001b[0m                       Traceback (most recent call last)",
      "Input \u001b[1;32mIn [1]\u001b[0m, in \u001b[0;36m<cell line: 8>\u001b[1;34m()\u001b[0m\n\u001b[0;32m      5\u001b[0m \u001b[38;5;28;01mfrom\u001b[39;00m \u001b[38;5;21;01mscipy\u001b[39;00m \u001b[38;5;28;01mimport\u001b[39;00m signal \u001b[38;5;28;01mas\u001b[39;00m sig\n\u001b[0;32m      7\u001b[0m \u001b[38;5;66;03m# Agrego funciones que voy a usar de splane\u001b[39;00m\n\u001b[1;32m----> 8\u001b[0m \u001b[38;5;28;01mfrom\u001b[39;00m \u001b[38;5;21;01msplane\u001b[39;00m \u001b[38;5;28;01mimport\u001b[39;00m bodePlot, pzmap\n\u001b[0;32m     10\u001b[0m \u001b[38;5;66;03m# Defino valores de componentes\u001b[39;00m\n\u001b[0;32m     11\u001b[0m R1 \u001b[38;5;241m=\u001b[39m \u001b[38;5;241m1000\u001b[39m\n",
      "File \u001b[1;32mD:\\ESTUDIO\\Github\\TC2\\TS1\\splane.py:38\u001b[0m, in \u001b[0;36m<module>\u001b[1;34m\u001b[0m\n\u001b[0;32m     36\u001b[0m \u001b[38;5;28;01mfrom\u001b[39;00m \u001b[38;5;21;01mIPython\u001b[39;00m\u001b[38;5;21;01m.\u001b[39;00m\u001b[38;5;21;01mdisplay\u001b[39;00m \u001b[38;5;28;01mimport\u001b[39;00m display, Math, Markdown\n\u001b[0;32m     37\u001b[0m \u001b[38;5;28;01mimport\u001b[39;00m \u001b[38;5;21;01msympy\u001b[39;00m \u001b[38;5;28;01mas\u001b[39;00m \u001b[38;5;21;01msp\u001b[39;00m\n\u001b[1;32m---> 38\u001b[0m \u001b[38;5;28;01mfrom\u001b[39;00m \u001b[38;5;21;01mschemdraw\u001b[39;00m \u001b[38;5;28;01mimport\u001b[39;00m Drawing\n\u001b[0;32m     39\u001b[0m \u001b[38;5;28;01mfrom\u001b[39;00m \u001b[38;5;21;01mschemdraw\u001b[39;00m\u001b[38;5;21;01m.\u001b[39;00m\u001b[38;5;21;01melements\u001b[39;00m \u001b[38;5;28;01mimport\u001b[39;00m  Resistor, ResistorIEC, Capacitor, Inductor, Line, Dot, Gap, Arrow, CurrentLabelInline\n\u001b[0;32m     42\u001b[0m \u001b[38;5;28;01mdef\u001b[39;00m \u001b[38;5;21mpp\u001b[39m(z1, z2):\n",
      "\u001b[1;31mModuleNotFoundError\u001b[0m: No module named 'schemdraw'"
     ]
    }
   ],
   "source": [
    "import numpy as np\n",
    "from matplotlib import pyplot as plt\n",
    "\n",
    "# módulo de SciPy\n",
    "from scipy import signal as sig\n",
    "\n",
    "# Agrego funciones que voy a usar de splane\n",
    "from splane import bodePlot, pzmap\n",
    "\n",
    "# Defino valores de componentes\n",
    "R1 = 1000\n",
    "R2 = 1000\n",
    "Rn = R2/R1\n",
    "\n",
    "# Defino numerador y denominador\n",
    "num = np.array([1,-Rn])\n",
    "den = np.array([1,1])\n",
    "\n",
    "# Obtengo transferencia\n",
    "H_s = sig.TransferFunction(num,den)\n",
    "\n",
    "# Ploteo\n",
    "plt.close('all')\n",
    "bodePlot(H_s, [-3,6], [-3,3])\n",
    "\n",
    "# Diagrama de polos y ceros\n",
    "pzmap(H_s)"
   ]
  },
  {
   "cell_type": "markdown",
   "id": "9d5e576e",
   "metadata": {},
   "source": [
    "### PUNTO 3: LTSpice\n",
    "\n",
    "#### Circuito:\n",
    "\n",
    "<img src=\"./Circuito.png\"/> \n",
    "\n",
    "\n",
    "#### Simulación:\n",
    "\n",
    "<img src=\"./Simulacion.png\"/> "
   ]
  },
  {
   "cell_type": "markdown",
   "id": "34c37ad3",
   "metadata": {},
   "source": [
    "### PUNTO 5: utilidad del filtro\n",
    "\n",
    "Viendo la respuesta en módulo del filtro, observamos que no discrimina ninguna frecuencia, por lo podemos concluir que es un \"pasa-todo\". Sin embargo, vemos que a frecuencias bajas el filtro presenta una fase de 180º, por lo que podría funcionar como un inversor. Si a la entrada tenemos una señal senoidal por ejemplo, al desfasarla 180 grados la estamos invirtiendo.\n",
    "\n",
    "También, si tenemos un filtro cuya fase va de 0 a -180, podríamos colocar en su salida este filtro pasa-todo, logrando eliminar el desfasaje (fase 0) para un rango de valores de frecuencia, o incluso también para una frecuencia específica.  "
   ]
  }
 ],
 "metadata": {
  "kernelspec": {
   "display_name": "Python 3 (ipykernel)",
   "language": "python",
   "name": "python3"
  },
  "language_info": {
   "codemirror_mode": {
    "name": "ipython",
    "version": 3
   },
   "file_extension": ".py",
   "mimetype": "text/x-python",
   "name": "python",
   "nbconvert_exporter": "python",
   "pygments_lexer": "ipython3",
   "version": "3.9.12"
  }
 },
 "nbformat": 4,
 "nbformat_minor": 5
}
